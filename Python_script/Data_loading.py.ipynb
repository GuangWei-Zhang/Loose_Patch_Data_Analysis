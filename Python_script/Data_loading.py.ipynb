{
 "cells": [
  {
   "cell_type": "code",
   "execution_count": 2,
   "metadata": {},
   "outputs": [
    {
     "name": "stdout",
     "output_type": "stream",
     "text": [
      "/Users/zhangguangwei/Documents/GitHub/Loose_Patch_Data_Analysis/Test_data/A1_L4_Py/7.mat\n"
     ]
    }
   ],
   "source": [
    "# first we need to load the data from the .mat file recorded using HEKA, which exported in .mat\n",
    "\n",
    "# first we gonna try scipy as https://scipy-cookbook.readthedocs.io/items/Reading_mat_files.html\n",
    "\n",
    "from scipy.io import loadmat\n",
    "from tkinter.filedialog import askopenfilenames\n",
    "from tkinter import Tk\n",
    "import os\n",
    "\n",
    "root1 = Tk()\n",
    "filez = askopenfilenames(parent = root1, title = 'Choose file')\n",
    "\n",
    "for fullFileName in root1.tk.splitlist(filez):\n",
    "    filename = fullFileName\n",
    "    (root, ext) =os.path.splitext(filename) \n",
    "    print(filename)\n",
    "    \n",
    "#x = loadmat('./')\n"
   ]
  },
  {
   "cell_type": "code",
   "execution_count": null,
   "metadata": {},
   "outputs": [],
   "source": []
  }
 ],
 "metadata": {
  "kernelspec": {
   "display_name": "Python 3",
   "language": "python",
   "name": "python3"
  },
  "language_info": {
   "codemirror_mode": {
    "name": "ipython",
    "version": 3
   },
   "file_extension": ".py",
   "mimetype": "text/x-python",
   "name": "python",
   "nbconvert_exporter": "python",
   "pygments_lexer": "ipython3",
   "version": "3.6.4"
  }
 },
 "nbformat": 4,
 "nbformat_minor": 2
}
